{
 "cells": [
  {
   "cell_type": "code",
   "execution_count": null,
   "id": "99dec305",
   "metadata": {},
   "outputs": [],
   "source": [
    "import pandas as pd\n",
    "import numpy as np\n",
    "import csv\n",
    "\n",
    "from datetime import datetime\n",
    "from datetime import timedelta\n",
    "\n",
    "df1 = pd.read_excel(r\"FILEPATH.xls\", sheet_name='NAME')\n",
    "df2 = pd.read_excel(r\"FILEPATH.xls\", sheet_name='NAME')\n",
    "df9 = pd.read_excel(r\"FILEPATH\", sheet_name='NAME')\n"
   ]
  },
  {
   "cell_type": "code",
   "execution_count": null,
   "id": "1395c6e4",
   "metadata": {},
   "outputs": [],
   "source": [
    "#How many rows?\n",
    "\n",
    "len(df1.index)\n",
    "len(df2.index)\n",
    "len(df9.index)"
   ]
  },
  {
   "cell_type": "code",
   "execution_count": null,
   "id": "767803ff",
   "metadata": {},
   "outputs": [],
   "source": [
    "pd.set_option('display.max_rows', None)"
   ]
  },
  {
   "cell_type": "code",
   "execution_count": null,
   "id": "31ceb26e",
   "metadata": {},
   "outputs": [],
   "source": [
    "for col in df1.columns:\n",
    "    print(col)"
   ]
  },
  {
   "cell_type": "code",
   "execution_count": null,
   "id": "a591a711",
   "metadata": {},
   "outputs": [],
   "source": [
    "count=df1['Subject ID'].value_counts()"
   ]
  },
  {
   "cell_type": "code",
   "execution_count": null,
   "id": "c097e3f7",
   "metadata": {},
   "outputs": [],
   "source": [
    "count1=df1['Subject ID'].value_counts()"
   ]
  },
  {
   "cell_type": "code",
   "execution_count": null,
   "id": "18b83fd0",
   "metadata": {},
   "outputs": [],
   "source": [
    "count1=df1['Subject ID'].value_counts().index.tolist()\n",
    "\n",
    "count1.sort()\n",
    "\n",
    "print(count1)"
   ]
  },
  {
   "cell_type": "code",
   "execution_count": null,
   "id": "ecc92332",
   "metadata": {},
   "outputs": [],
   "source": [
    "count2=df2['Subject ID']. value_counts().index.tolist()\n",
    "count2.sort()\n",
    "print(count2)"
   ]
  },
  {
   "cell_type": "code",
   "execution_count": null,
   "id": "473d4c4b",
   "metadata": {},
   "outputs": [],
   "source": [
    "count9=df9['Subject ID']. value_counts().index.tolist()\n",
    "count9.sort()\n",
    "print (count9)"
   ]
  },
  {
   "cell_type": "code",
   "execution_count": null,
   "id": "7663cce7",
   "metadata": {},
   "outputs": [],
   "source": [
    "#To append lists\n",
    "for x in count2:\n",
    "  count1.append(x)\n",
    "\n",
    "print(count1)"
   ]
  },
  {
   "cell_type": "code",
   "execution_count": null,
   "id": "bdd8ba12",
   "metadata": {},
   "outputs": [],
   "source": [
    "for x in count9:\n",
    "  count1.append(x)\n",
    "\n",
    "print(count1)"
   ]
  },
  {
   "cell_type": "code",
   "execution_count": null,
   "id": "fbcaea62",
   "metadata": {},
   "outputs": [],
   "source": [
    "ecapid = pd.DataFrame(count1,columns=['ID'])\n",
    "\n",
    "print(ecapid)"
   ]
  },
  {
   "cell_type": "code",
   "execution_count": null,
   "id": "1c9f55c4",
   "metadata": {},
   "outputs": [],
   "source": [
    "ecapid.insert(1,\"Medic\",1)\n",
    "\n",
    "ecapid"
   ]
  },
  {
   "cell_type": "code",
   "execution_count": null,
   "id": "619b0169",
   "metadata": {},
   "outputs": [],
   "source": [
    "print(ecapid.dtypes)"
   ]
  },
  {
   "cell_type": "code",
   "execution_count": null,
   "id": "9edd593d",
   "metadata": {},
   "outputs": [],
   "source": [
    "#Convert id to integer\n",
    "ecapid['ID'] = ecapid[\"ID\"].astype(np.int64)"
   ]
  },
  {
   "cell_type": "code",
   "execution_count": null,
   "id": "359fd85c",
   "metadata": {},
   "outputs": [],
   "source": [
    "len(ecapid)"
   ]
  },
  {
   "cell_type": "code",
   "execution_count": null,
   "id": "9526e4f1",
   "metadata": {},
   "outputs": [],
   "source": [
    "print(ecapid.dtypes)"
   ]
  },
  {
   "cell_type": "code",
   "execution_count": null,
   "id": "72ab8649",
   "metadata": {},
   "outputs": [],
   "source": [
    "#Find duplicates\n",
    "#No dups\n",
    "df = pd.DataFrame(ecapid, columns = ['ID'])\n",
    "\n",
    "duplicate = df[df.duplicated()]\n",
    "\n",
    "print (duplicate)"
   ]
  },
  {
   "cell_type": "code",
   "execution_count": null,
   "id": "94566018",
   "metadata": {},
   "outputs": [],
   "source": [
    "pd.DataFrame(ecapid).to_excel('ecapid.xlsx', index=False)\n",
    "print('DataFrame is written to Excel File successfully.')"
   ]
  },
  {
   "cell_type": "code",
   "execution_count": null,
   "id": "8b864082",
   "metadata": {},
   "outputs": [],
   "source": [
    "#Stack all three datasets\n",
    "concat = pd.concat([df2,df1,df9])\n",
    "\n",
    "len(concat)"
   ]
  },
  {
   "cell_type": "code",
   "execution_count": null,
   "id": "a411f64f",
   "metadata": {},
   "outputs": [],
   "source": [
    "print(concat.dtypes)"
   ]
  },
  {
   "cell_type": "code",
   "execution_count": null,
   "id": "fc99a18e",
   "metadata": {},
   "outputs": [],
   "source": [
    "# Fill NaN values with the previous row values\n",
    "concat['Subject ID'].fillna(method='ffill', inplace=True)\n",
    "print(concat)"
   ]
  },
  {
   "cell_type": "code",
   "execution_count": null,
   "id": "7208b3ed",
   "metadata": {},
   "outputs": [],
   "source": [
    "#Converted dose date to date format\n",
    "concat[\"Dose Date\"]= pd.to_datetime(concat[\"Dose Date\"])\n",
    "\n",
    "print(concat[\"Dose Date\"])"
   ]
  },
  {
   "cell_type": "code",
   "execution_count": null,
   "id": "fd713a4d",
   "metadata": {},
   "outputs": [],
   "source": [
    "len(concat)"
   ]
  },
  {
   "cell_type": "code",
   "execution_count": null,
   "id": "3eb8eb12",
   "metadata": {},
   "outputs": [],
   "source": [
    "concat['Study ID'].value_counts()"
   ]
  },
  {
   "cell_type": "code",
   "execution_count": null,
   "id": "eaa630c1",
   "metadata": {},
   "outputs": [],
   "source": [
    "#Create new id var that is integer and descending sort\n",
    "concat['ID'] = concat[\"Subject ID\"].astype(np.int64)\n",
    "\n",
    "#concat.sort_values('ID')"
   ]
  },
  {
   "cell_type": "code",
   "execution_count": null,
   "id": "4d70de4a",
   "metadata": {},
   "outputs": [],
   "source": [
    "concat"
   ]
  },
  {
   "cell_type": "code",
   "execution_count": null,
   "id": "fc6c3a66",
   "metadata": {},
   "outputs": [],
   "source": [
    "pd.DataFrame(concat).to_csv('concat.csv', index=False)\n",
    "print('DataFrame is written to csv File successfully.')"
   ]
  },
  {
   "cell_type": "code",
   "execution_count": null,
   "id": "1c25cf7d",
   "metadata": {},
   "outputs": [],
   "source": [
    "print(concat.dtypes)"
   ]
  },
  {
   "cell_type": "code",
   "execution_count": null,
   "id": "9a31a533",
   "metadata": {},
   "outputs": [],
   "source": [
    "len(concat)"
   ]
  },
  {
   "cell_type": "code",
   "execution_count": null,
   "id": "27f220bc",
   "metadata": {},
   "outputs": [],
   "source": [
    "concat['Study ID'].value_counts()"
   ]
  },
  {
   "cell_type": "code",
   "execution_count": null,
   "id": "9d9b653b",
   "metadata": {},
   "outputs": [],
   "source": [
    "concat['ID'].value_counts()"
   ]
  },
  {
   "cell_type": "code",
   "execution_count": null,
   "id": "9cccaad4",
   "metadata": {},
   "outputs": [],
   "source": [
    "concat['Dose Label'].value_counts()"
   ]
  },
  {
   "cell_type": "code",
   "execution_count": null,
   "id": "43148723",
   "metadata": {},
   "outputs": [],
   "source": [
    "#How to drop columns\n",
    "concat1 = concat.drop([\"Package Index\",\"Package ID\", \"Study ID\",\"Subject ID\", \"Site ID\",\"Kit ID\",\"Dose Regimen\", \"Dose Group\", \"Compliant\"],axis=1)"
   ]
  },
  {
   "cell_type": "code",
   "execution_count": null,
   "id": "6b84f093",
   "metadata": {},
   "outputs": [],
   "source": [
    "#Create new vars\n",
    "#Keep certain number of stings in obj\n",
    "concat1['OpenDate_DHM'] = concat1[\"Dose Timestamp\"].str[:16]\n",
    "\n",
    "print (concat1['OpenDate_DHM'])"
   ]
  },
  {
   "cell_type": "code",
   "execution_count": null,
   "id": "2fef4d7e",
   "metadata": {},
   "outputs": [],
   "source": [
    "str(concat1['OpenDate_DHM'])\n",
    "print (concat1['OpenDate_DHM'])"
   ]
  },
  {
   "cell_type": "code",
   "execution_count": null,
   "id": "de97f008",
   "metadata": {},
   "outputs": [],
   "source": [
    "print(concat1.dtypes)"
   ]
  },
  {
   "cell_type": "code",
   "execution_count": null,
   "id": "925ee441",
   "metadata": {},
   "outputs": [],
   "source": [
    "concat['Dose Label'].value_counts()"
   ]
  },
  {
   "cell_type": "code",
   "execution_count": null,
   "id": "00ee0966",
   "metadata": {},
   "outputs": [],
   "source": [
    "concat['Dose Index'].value_counts()"
   ]
  },
  {
   "cell_type": "code",
   "execution_count": null,
   "id": "ba4f00a7",
   "metadata": {},
   "outputs": [],
   "source": [
    "concat1 = concat.reindex(columns=['ID','Dose Label','Dose Date','Dose Index'])"
   ]
  },
  {
   "cell_type": "code",
   "execution_count": null,
   "id": "ebeb5003",
   "metadata": {},
   "outputs": [],
   "source": [
    "print(concat1.dtypes)"
   ]
  },
  {
   "cell_type": "code",
   "execution_count": null,
   "id": "b440acfd",
   "metadata": {},
   "outputs": [],
   "source": [
    "concat1['Day num'] = np.where(concat1['Dose Index'] == 1, 1, 0 )\n",
    "\n",
    "print(concat1)"
   ]
  },
  {
   "cell_type": "code",
   "execution_count": null,
   "id": "2590b387",
   "metadata": {},
   "outputs": [],
   "source": [
    "print(concat1.dtypes)\n",
    "#Day num is created in this full dataset with 1 or 0."
   ]
  },
  {
   "cell_type": "code",
   "execution_count": null,
   "id": "d746a2cb",
   "metadata": {},
   "outputs": [],
   "source": [
    "concat1['ID'].value_counts()"
   ]
  },
  {
   "cell_type": "code",
   "execution_count": null,
   "id": "81276354",
   "metadata": {},
   "outputs": [],
   "source": [
    "#Create separate datasets and then locate last obs"
   ]
  },
  {
   "cell_type": "code",
   "execution_count": null,
   "id": "04a7b18b",
   "metadata": {},
   "outputs": [],
   "source": [
    "#Locate only the vars day num = 1\n",
    "day1 = concat1.loc[concat1['Day num']== 1]\n",
    "\n",
    "day1"
   ]
  },
  {
   "cell_type": "code",
   "execution_count": null,
   "id": "c7806fb7",
   "metadata": {},
   "outputs": [],
   "source": [
    "len(day1)"
   ]
  },
  {
   "cell_type": "code",
   "execution_count": null,
   "id": "715abb95",
   "metadata": {},
   "outputs": [],
   "source": [
    "print(day1.dtypes)"
   ]
  },
  {
   "cell_type": "code",
   "execution_count": null,
   "id": "6563ac4e",
   "metadata": {},
   "outputs": [],
   "source": [
    "#Create a subset of columns\n",
    "day2 = day1.loc[:,['ID','Day num', 'Dose Label','Dose Date']]\n",
    "\n",
    "day2"
   ]
  },
  {
   "cell_type": "code",
   "execution_count": null,
   "id": "ff84cb6c",
   "metadata": {},
   "outputs": [],
   "source": [
    "s = day2['Dose Date']\n",
    "\n",
    "day2['Last Date_50'] = s + timedelta(days=50)\n",
    "\n",
    "\n",
    "print(day2['Last Date_50'])"
   ]
  },
  {
   "cell_type": "code",
   "execution_count": null,
   "id": "949d742e",
   "metadata": {},
   "outputs": [],
   "source": [
    "day2.head()\n"
   ]
  },
  {
   "cell_type": "code",
   "execution_count": null,
   "id": "26e50f57",
   "metadata": {},
   "outputs": [],
   "source": [
    "print(day2.dtypes)"
   ]
  },
  {
   "cell_type": "code",
   "execution_count": null,
   "id": "fc146c41",
   "metadata": {},
   "outputs": [],
   "source": [
    "day2['ID_str'] = day2['ID'].astype(\"string\")\n",
    "\n",
    "day2"
   ]
  },
  {
   "cell_type": "code",
   "execution_count": null,
   "id": "c95d2d42",
   "metadata": {},
   "outputs": [],
   "source": [
    "print(day2.dtypes)"
   ]
  },
  {
   "cell_type": "code",
   "execution_count": null,
   "id": "af217ed1",
   "metadata": {},
   "outputs": [],
   "source": [
    "list_A = day2['ID'].tolist()"
   ]
  },
  {
   "cell_type": "code",
   "execution_count": null,
   "id": "a52baf17",
   "metadata": {},
   "outputs": [],
   "source": [
    "#CREATE INDIVIDUAL DATASETS\n",
    "for i in list_A:\n",
    "    df = concat1.loc[concat1['ID']== i]\n",
    "\n",
    "    #df.to_csv(f'ID_{i}.csv', encoding=\"utf-8\", index=False)\n",
    "    df.to_csv(f'FILEPATH\\\\ID_{i}.csv', index=False)"
   ]
  },
  {
   "cell_type": "code",
   "execution_count": null,
   "id": "3d1b83f7",
   "metadata": {},
   "outputs": [],
   "source": [
    "day2"
   ]
  },
  {
   "cell_type": "code",
   "execution_count": null,
   "id": "246a705e",
   "metadata": {},
   "outputs": [],
   "source": [
    "#Another list \n",
    "list_str = day2['ID_str'].tolist()\n",
    "\n",
    "list_str"
   ]
  },
  {
   "cell_type": "code",
   "execution_count": null,
   "id": "aa74545d",
   "metadata": {},
   "outputs": [],
   "source": [
    "#ADD end dates to new dataset 'start_end_dates'"
   ]
  },
  {
   "cell_type": "code",
   "execution_count": null,
   "id": "7595efb5",
   "metadata": {},
   "outputs": [],
   "source": [
    "import glob\n",
    "\n",
    "print('all csv files in data directory:', glob.glob('FILEPATH\\\\ID_*.csv'))"
   ]
  },
  {
   "cell_type": "code",
   "execution_count": null,
   "id": "1becb0a1",
   "metadata": {},
   "outputs": [],
   "source": [
    "for filename in glob.glob('ID_*.csv'):\n",
    "    data = pd.read_csv(filename)\n",
    "    print(data.iloc[-1:])"
   ]
  },
  {
   "cell_type": "code",
   "execution_count": null,
   "id": "1aea5bf1",
   "metadata": {},
   "outputs": [],
   "source": [
    "filenames = glob.glob('ID_*.csv')\n",
    "\n",
    "filenames"
   ]
  },
  {
   "cell_type": "code",
   "execution_count": null,
   "id": "5097c027",
   "metadata": {},
   "outputs": [],
   "source": [
    "df_list = []"
   ]
  },
  {
   "cell_type": "code",
   "execution_count": null,
   "id": "d37d84a2",
   "metadata": {},
   "outputs": [],
   "source": [
    "for f in filenames:\n",
    "    df_list.append(pd.read_csv(f))\n",
    "\n",
    "print(df_list)"
   ]
  },
  {
   "cell_type": "code",
   "execution_count": null,
   "id": "66bd7c70",
   "metadata": {},
   "outputs": [],
   "source": [
    "df_all = pd.concat([d.iloc[-1:] for d in df_list], ignore_index=True)\n",
    "\n",
    "df_all"
   ]
  },
  {
   "cell_type": "code",
   "execution_count": null,
   "id": "aebabc56",
   "metadata": {},
   "outputs": [],
   "source": [
    "#Merge with day2 dataset\n",
    "Start_end_dates = day2.merge(df_all, on='ID', how='left')\n",
    "\n",
    "Start_end_dates"
   ]
  },
  {
   "cell_type": "code",
   "execution_count": null,
   "id": "62bf1c6e",
   "metadata": {},
   "outputs": [],
   "source": [
    "pd.DataFrame(Start_end_dates).to_excel('Start_end_dates.xlsx', index=False)\n",
    "print('DataFrame is written to Excel File successfully.')"
   ]
  }
 ],
 "metadata": {
  "kernelspec": {
   "display_name": "Python 3 (ipykernel)",
   "language": "python",
   "name": "python3"
  },
  "language_info": {
   "codemirror_mode": {
    "name": "ipython",
    "version": 3
   },
   "file_extension": ".py",
   "mimetype": "text/x-python",
   "name": "python",
   "nbconvert_exporter": "python",
   "pygments_lexer": "ipython3",
   "version": "3.10.9"
  }
 },
 "nbformat": 4,
 "nbformat_minor": 5
}
